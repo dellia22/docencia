{
 "cells": [
  {
   "cell_type": "code",
   "execution_count": null,
   "metadata": {},
   "outputs": [],
   "source": [
    "#anova"
   ]
  },
  {
   "cell_type": "code",
   "execution_count": 1,
   "metadata": {},
   "outputs": [],
   "source": [
    "import sys\n",
    "\n",
    "import os\n",
    "\n",
    "import numpy as np # fundamental package for scientific computing with Python\n",
    "\n",
    "import pandas as pd \n",
    "\n",
    "import xlrd #Extract data from Excel spreadsheets\n",
    "\n",
    "from openpyxl import Workbook #Openpyxl is a Python library for reading and writing Excel (with extension xlsx/xlsm/xltx/xltm) files \n",
    "\n",
    "import matplotlib #Matplotlib is a Python 2D plotting library which produces publication quality figures in a variety of hardcopy formats and interactive environments across platforms\n",
    "import matplotlib as mpl\n",
    "import matplotlib.pyplot as plt\n",
    "from matplotlib import pyplot\n",
    "\n",
    "import plotly #Plotly is an online collaborative data analysis and graphing tool. The Python API allows you to access all of Plotly's functionality from Python.\n",
    "plotly.tools.set_credentials_file(username='laurahj', api_key='RVPLUoRgWfFI8EmphsEv') #it is a requeriment for visualizating tables of levene and shapiro, create account in https://plot.ly/  #se puede usar la cuenta laurahj porque se creo para este script\n",
    "import plotly.plotly as py\n",
    "import plotly.graph_objs as go\n",
    "import plotly.figure_factory as ff\n",
    "\n",
    "import statsmodels.api as sm  #statsmodels is a Python module that provides classes and functions for the estimation of many different statistical models, as well as for conducting statistical tests, and statistical data exploration\n",
    "from statsmodels.formula.api import ols\n",
    "from statsmodels.graphics.gofplots import qqplot\n",
    "from statsmodels.stats.multicomp import pairwise_tukeyhsd\n",
    "\n",
    "import scipy  #is a free and open-source Python library used for scientific computing and technical computing. \n",
    "from scipy import stats\n",
    "from scipy.stats import levene\n",
    "from scipy.stats import shapiro"
   ]
  },
  {
   "cell_type": "code",
   "execution_count": null,
   "metadata": {},
   "outputs": [],
   "source": [
    "factor=['lazul']*3+['lamarilla']*3+['lverde']*3\n",
    "colonias=[10,11,13]+[20,21,33]+[4,3,2]\n",
    "df=pd.DataFrame({'factor':factor,'colonias':colonias})\n",
    "print(df) #see data in the terminal"
   ]
  }
 ],
 "metadata": {
  "kernelspec": {
   "display_name": "Python 2",
   "language": "python",
   "name": "python2"
  },
  "language_info": {
   "codemirror_mode": {
    "name": "ipython",
    "version": 2
   },
   "file_extension": ".py",
   "mimetype": "text/x-python",
   "name": "python",
   "nbconvert_exporter": "python",
   "pygments_lexer": "ipython2",
   "version": "2.7.15"
  }
 },
 "nbformat": 4,
 "nbformat_minor": 2
}
